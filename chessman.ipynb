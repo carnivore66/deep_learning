{
 "cells": [
  {
   "cell_type": "code",
   "execution_count": 1,
   "metadata": {},
   "outputs": [
    {
     "name": "stdout",
     "output_type": "stream",
     "text": [
      "total train king images: 50\n",
      "total test king images: 15\n",
      "total train Bishop images: 50\n",
      "total test Bishop images: 22\n",
      "total train Knight images: 50\n",
      "total test Knight images: 25\n",
      "total train Pawn images: 50\n",
      "total test Pawn images: 26\n",
      "total train Queen images: 50\n",
      "total test Queen images: 15\n"
     ]
    }
   ],
   "source": [
    "import os, shutil\n",
    "#from matplotlib import pyplot as plt\n",
    "\n",
    "\n",
    "#base_dir = r'C:\\Users\\Gholamrezaee\\Downloads\\small_chess_data'\n",
    "train_dir=r'C:\\Users\\Gholamrezaee\\Downloads\\small_chess_data\\train'\n",
    "validation_dir=r'C:\\Users\\Gholamrezaee\\Downloads\\small_chess_data\\validation'\n",
    "test_dir=r'C:\\Users\\Gholamrezaee\\Downloads\\small_chess_data\\test'\n",
    "\n",
    "King_train_dir=r'C:\\Users\\Gholamrezaee\\Downloads\\small_chess_data\\train\\King'\n",
    "King_validation_dir=r'C:\\Users\\Gholamrezaee\\Downloads\\small_chess_data\\validation\\King'\n",
    "King_test_dir=r'C:\\Users\\Gholamrezaee\\Downloads\\small_chess_data\\test\\King'\n",
    "print('total train king images:' , len(os.listdir(King_train_dir)))\n",
    "print('total test king images:', len(os.listdir(King_test_dir)))\n",
    "\n",
    "Bishop_train_dir=r'C:\\Users\\Gholamrezaee\\Downloads\\small_chess_data\\train\\Bishop'\n",
    "Bishop_validation_dir=r'C:\\Users\\Gholamrezaee\\Downloads\\small_chess_data\\validation\\Bishop'\n",
    "Bishop_test_dir=r'C:\\Users\\Gholamrezaee\\Downloads\\small_chess_data\\test\\Bishop'\n",
    "print('total train Bishop images:' , len(os.listdir(Bishop_train_dir)))\n",
    "print('total test Bishop images:', len(os.listdir(Bishop_test_dir)))\n",
    "\n",
    "\n",
    "Knight_train_dir=r'C:\\Users\\Gholamrezaee\\Downloads\\small_chess_data\\train\\Knight'\n",
    "Knight_validation_dir=r'C:\\Users\\Gholamrezaee\\Downloads\\small_chess_data\\validation\\Knight'\n",
    "Knight_test_dir=r'C:\\Users\\Gholamrezaee\\Downloads\\small_chess_data\\test\\Knight'\n",
    "print('total train Knight images:' , len(os.listdir(Knight_train_dir)))\n",
    "print('total test Knight images:', len(os.listdir(Knight_test_dir)))\n",
    "\n",
    "\n",
    "Pawn_train_dir=r'C:\\Users\\Gholamrezaee\\Downloads\\small_chess_data\\train\\Pawn'\n",
    "Pawn_validation_dir=r'C:\\Users\\Gholamrezaee\\Downloads\\small_chess_data\\validation\\Pawn'\n",
    "Pawn_test_dir=r'C:\\Users\\Gholamrezaee\\Downloads\\small_chess_data\\test\\Pawn'\n",
    "print('total train Pawn images:' , len(os.listdir(Pawn_train_dir)))\n",
    "print('total test Pawn images:', len(os.listdir(Pawn_test_dir)))\n",
    "\n",
    "\n",
    "Queen_train_dir=r'C:\\Users\\Gholamrezaee\\Downloads\\small_chess_data\\train\\Queen'\n",
    "Queen_validation_dir=r'C:\\Users\\Gholamrezaee\\Downloads\\small_chess_data\\validation\\Queen'\n",
    "Queen_test_dir=r'C:\\Users\\Gholamrezaee\\Downloads\\small_chess_data\\test\\Queen'\n",
    "print('total train Queen images:' , len(os.listdir(King_train_dir)))\n",
    "print('total test Queen images:', len(os.listdir(King_test_dir)))\n",
    "\n",
    "\n",
    "\n",
    "\n",
    "Rook_train_dir=r'C:\\Users\\Gholamrezaee\\Downloads\\small_chess_data\\train\\Rook'\n",
    "Rook_validation_dir=r'C:\\Users\\Gholamrezaee\\Downloads\\small_chess_data\\validation\\Rook'\n",
    "Rook_test_data=r'C:\\Users\\Gholamrezaee\\Downloads\\small_chess_data\\test\\Rook'\n"
   ]
  },
  {
   "cell_type": "code",
   "execution_count": 2,
   "metadata": {},
   "outputs": [
    {
     "name": "stderr",
     "output_type": "stream",
     "text": [
      "Using TensorFlow backend.\n"
     ]
    },
    {
     "name": "stdout",
     "output_type": "stream",
     "text": [
      "Model: \"sequential_1\"\n",
      "_________________________________________________________________\n",
      "Layer (type)                 Output Shape              Param #   \n",
      "=================================================================\n",
      "conv2d_1 (Conv2D)            (None, 148, 148, 32)      896       \n",
      "_________________________________________________________________\n",
      "max_pooling2d_1 (MaxPooling2 (None, 74, 74, 32)        0         \n",
      "_________________________________________________________________\n",
      "conv2d_2 (Conv2D)            (None, 72, 72, 64)        18496     \n",
      "_________________________________________________________________\n",
      "max_pooling2d_2 (MaxPooling2 (None, 36, 36, 64)        0         \n",
      "_________________________________________________________________\n",
      "conv2d_3 (Conv2D)            (None, 34, 34, 128)       73856     \n",
      "_________________________________________________________________\n",
      "max_pooling2d_3 (MaxPooling2 (None, 17, 17, 128)       0         \n",
      "_________________________________________________________________\n",
      "conv2d_4 (Conv2D)            (None, 15, 15, 64)        73792     \n",
      "_________________________________________________________________\n",
      "max_pooling2d_4 (MaxPooling2 (None, 7, 7, 64)          0         \n",
      "_________________________________________________________________\n",
      "flatten_1 (Flatten)          (None, 3136)              0         \n",
      "_________________________________________________________________\n",
      "dense_1 (Dense)              (None, 512)               1606144   \n",
      "_________________________________________________________________\n",
      "dense_2 (Dense)              (None, 6)                 3078      \n",
      "=================================================================\n",
      "Total params: 1,776,262\n",
      "Trainable params: 1,776,262\n",
      "Non-trainable params: 0\n",
      "_________________________________________________________________\n"
     ]
    }
   ],
   "source": [
    "from keras import models\n",
    "from keras import layers\n",
    "from keras.models import Sequential\n",
    "\n",
    "model= models.Sequential()\n",
    "\n",
    "model.add(layers.Conv2D(32,(3,3),activation='relu', input_shape= (150,150,3)))\n",
    "model.add(layers.MaxPooling2D(2,2))\n",
    "model.add(layers.Conv2D(64,(3,3),activation='relu'))          \n",
    "model.add(layers.MaxPooling2D(2,2))\n",
    "model.add(layers.Conv2D(128,(3,3),activation='relu'))\n",
    "model.add(layers.MaxPooling2D(2,2))\n",
    "model.add(layers.Conv2D(64,(3,3),activation='relu'))\n",
    "model.add(layers.MaxPooling2D(2,2))          \n",
    "model.add(layers.Flatten())\n",
    "model.add(layers.Dense(512,activation='relu'))\n",
    "model.add(layers.Dense(6,activation='softmax'))\n",
    "          \n",
    "model.summary()"
   ]
  },
  {
   "cell_type": "code",
   "execution_count": 3,
   "metadata": {},
   "outputs": [],
   "source": [
    "from keras import optimizers\n",
    "model.compile(loss='binary_crossentropy',optimizer=optimizers.RMSprop(lr=0.5),metrics=['acc'])\n",
    "###lr=le-4"
   ]
  },
  {
   "cell_type": "code",
   "execution_count": 18,
   "metadata": {},
   "outputs": [
    {
     "name": "stdout",
     "output_type": "stream",
     "text": [
      "Found 299 images belonging to 6 classes.\n",
      "Found 180 images belonging to 6 classes.\n",
      "Epoch 1/20\n",
      "5/5 [==============================] - 19s 4s/step - loss: 4.5112 - acc: 0.7067 - val_loss: 4.1011 - val_acc: 0.7133\n",
      "Epoch 2/20\n",
      "5/5 [==============================] - 18s 4s/step - loss: 4.3061 - acc: 0.7200 - val_loss: 5.1264 - val_acc: 0.7133\n",
      "Epoch 3/20\n",
      "5/5 [==============================] - 18s 4s/step - loss: 4.3061 - acc: 0.7200 - val_loss: 4.1011 - val_acc: 0.7333\n",
      "Epoch 4/20\n",
      "5/5 [==============================] - 18s 4s/step - loss: 3.8960 - acc: 0.7467 - val_loss: 4.1011 - val_acc: 0.7200\n",
      "Epoch 5/20\n",
      "5/5 [==============================] - 17s 3s/step - loss: 4.2577 - acc: 0.7222 - val_loss: 5.1264 - val_acc: 0.7267\n",
      "Epoch 6/20\n",
      "5/5 [==============================] - 18s 4s/step - loss: 3.8960 - acc: 0.7467 - val_loss: 5.1264 - val_acc: 0.7133\n",
      "Epoch 7/20\n",
      "5/5 [==============================] - 17s 3s/step - loss: 4.5112 - acc: 0.7067 - val_loss: 3.0758 - val_acc: 0.7333\n",
      "Epoch 8/20\n",
      "5/5 [==============================] - 18s 4s/step - loss: 4.7163 - acc: 0.6933 - val_loss: 3.0758 - val_acc: 0.7333\n",
      "Epoch 9/20\n",
      "5/5 [==============================] - 18s 4s/step - loss: 3.4859 - acc: 0.7733 - val_loss: 5.1264 - val_acc: 0.7133\n",
      "Epoch 10/20\n",
      "5/5 [==============================] - 17s 3s/step - loss: 4.1011 - acc: 0.7333 - val_loss: 4.1011 - val_acc: 0.7267\n",
      "Epoch 11/20\n",
      "5/5 [==============================] - 18s 4s/step - loss: 5.1264 - acc: 0.6667 - val_loss: 3.0758 - val_acc: 0.7267\n",
      "Epoch 12/20\n",
      "5/5 [==============================] - 18s 4s/step - loss: 4.1011 - acc: 0.7333 - val_loss: 3.0758 - val_acc: 0.7333\n",
      "Epoch 13/20\n",
      "5/5 [==============================] - 17s 3s/step - loss: 4.1011 - acc: 0.7333 - val_loss: 2.0505 - val_acc: 0.7267\n",
      "Epoch 14/20\n",
      "5/5 [==============================] - 17s 3s/step - loss: 4.3061 - acc: 0.7200 - val_loss: 5.1264 - val_acc: 0.7067\n",
      "Epoch 15/20\n",
      "5/5 [==============================] - 19s 4s/step - loss: 4.5112 - acc: 0.7067 - val_loss: 5.1264 - val_acc: 0.7533\n",
      "Epoch 16/20\n",
      "5/5 [==============================] - 18s 4s/step - loss: 4.1011 - acc: 0.7333 - val_loss: 4.1011 - val_acc: 0.7067\n",
      "Epoch 17/20\n",
      "5/5 [==============================] - 34s 7s/step - loss: 4.3061 - acc: 0.7200 - val_loss: 5.1264 - val_acc: 0.7067\n",
      "Epoch 18/20\n",
      "5/5 [==============================] - 23s 5s/step - loss: 4.9213 - acc: 0.6800 - val_loss: 4.1011 - val_acc: 0.7133\n",
      "Epoch 19/20\n",
      "5/5 [==============================] - 20s 4s/step - loss: 4.0085 - acc: 0.7361 - val_loss: 4.1011 - val_acc: 0.6933\n",
      "Epoch 20/20\n",
      "5/5 [==============================] - 24s 5s/step - loss: 4.3061 - acc: 0.7200 - val_loss: 5.1264 - val_acc: 0.7200\n"
     ]
    }
   ],
   "source": [
    "from keras.preprocessing.image import ImageDataGenerator\n",
    "train_dir=r'C:\\Users\\Gholamrezaee\\Downloads\\small_chess_data\\train'\n",
    "validation_dir=r'C:\\Users\\Gholamrezaee\\Downloads\\small_chess_data\\validation'\n",
    "test_dir=r'C:\\Users\\Gholamrezaee\\Downloads\\small_chess_data\\test'\n",
    "\n",
    "train_data_gen=ImageDataGenerator(rescale=1/255)\n",
    "test_data_gen=ImageDataGenerator(rescale=1/255)\n",
    "\n",
    "train_generator=train_data_gen.flow_from_directory(\n",
    "    train_dir,\n",
    "    target_size=(150,150),\n",
    "    batch_size=5,\n",
    "    class_mode='categorical')\n",
    "\n",
    "validation_generator=test_data_gen.flow_from_directory(\n",
    "    validation_dir,\n",
    "    target_size=(150,150),\n",
    "    batch_size=5,\n",
    "    class_mode='categorical')\n",
    "\n",
    "history=model.fit_generator(\n",
    "    train_generator,\n",
    "    steps_per_epoch=5,\n",
    "    epochs=10,\n",
    "    validation_data=validation_generator,\n",
    "    validation_steps=10)\n",
    "\n",
    "model.save('small_chessman.h5')\n",
    "\n"
   ]
  },
  {
   "cell_type": "code",
   "execution_count": 16,
   "metadata": {},
   "outputs": [
    {
     "name": "stdout",
     "output_type": "stream",
     "text": [
      "data_batch shape is: (5, 150, 150, 3)\n",
      "labeles_batch shape is: (5, 6)\n"
     ]
    }
   ],
   "source": [
    "for data_batch , lables_batch in train_generator:\n",
    "    print('data_batch shape is:',data_batch.shape)\n",
    "    print('labeles_batch shape is:',lables_batch.shape)\n",
    "    break"
   ]
  },
  {
   "cell_type": "code",
   "execution_count": 11,
   "metadata": {},
   "outputs": [
    {
     "data": {
      "image/png": "[encoded data removed]",
      "text/plain": [
       "<Figure size 432x288 with 1 Axes>"
      ]
     },
     "metadata": {
      "needs_background": "light"
     },
     "output_type": "display_data"
    }
   ],
   "source": [
    "from matplotlib import pyplot as plt\n",
    "\n",
    "history_dict = history.history\n",
    "loss_values = history_dict['loss']\n",
    "val_loss_values = history_dict['val_loss']\n",
    "\n",
    "epochs = range(1, len(loss_values)+1)\n",
    "plt.plot(epochs, loss_values, 'bo', label='Training Loss')\n",
    "plt.plot(epochs, val_loss_values, 'b', label='Validation Loss')\n",
    "plt.title('Training and validation loss')\n",
    "plt.xlabel('epochs')\n",
    "plt.ylabel('loss')\n",
    "plt.legend()\n",
    "plt.show()"
   ]
  },
  {
   "cell_type": "code",
   "execution_count": 17,
   "metadata": {},
   "outputs": [
    {
     "data": {
      "image/png": "[encoded data removed]",
      "text/plain": [
       "<Figure size 432x288 with 1 Axes>"
      ]
     },
     "metadata": {
      "needs_background": "light"
     },
     "output_type": "display_data"
    }
   ],
   "source": [
    "from matplotlib import pyplot as plt\n",
    "\n",
    "history_dict = history.history\n",
    "loss_values = history_dict['acc']\n",
    "val_loss_values = history_dict['val_acc']\n",
    "\n",
    "epochs = range(1, len(loss_values)+1)\n",
    "plt.plot(epochs, loss_values, 'bo', label='Training acc')\n",
    "plt.plot(epochs, val_loss_values, 'b', label='Validation acc')\n",
    "plt.title('Training and validation loss')\n",
    "plt.xlabel('epochs')\n",
    "plt.ylabel('accuracy')\n",
    "plt.legend()\n",
    "plt.show()"
   ]
  },
  {
   "cell_type": "code",
   "execution_count": null,
   "metadata": {},
   "outputs": [],
   "source": []
  }
 ],
 "metadata": {
  "kernelspec": {
   "display_name": "Python 3.7 (tensorflow)",
   "language": "python",
   "name": "tensorflow"
  },
  "language_info": {
   "codemirror_mode": {
    "name": "ipython",
    "version": 3
   },
   "file_extension": ".py",
   "mimetype": "text/x-python",
   "name": "python",
   "nbconvert_exporter": "python",
   "pygments_lexer": "ipython3",
   "version": "3.7.7"
  }
 },
 "nbformat": 4,
 "nbformat_minor": 4
}
